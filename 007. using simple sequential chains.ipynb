{
 "cells": [
  {
   "cell_type": "code",
   "execution_count": 3,
   "metadata": {},
   "outputs": [
    {
     "data": {
      "text/plain": [
       "True"
      ]
     },
     "execution_count": 3,
     "metadata": {},
     "output_type": "execute_result"
    }
   ],
   "source": [
    "import os\n",
    "from dotenv import load_dotenv\n",
    "\n",
    "envKey = \"OPENAI_API_KEY\"\n",
    "\n",
    "# clearing the key if exists\n",
    "if os.getenv(envKey) != None:\n",
    "    os.environ.pop(envKey) # this is only needed if the environment got set by accident and we want to clear it\n",
    "\n",
    "# loading the environment variable from the .env file\n",
    "load_dotenv()"
   ]
  },
  {
   "cell_type": "code",
   "execution_count": 5,
   "metadata": {},
   "outputs": [],
   "source": [
    "from langchain import OpenAI, LLMChain, PromptTemplate\n",
    "from langchain.chains import SimpleSequentialChain"
   ]
  },
  {
   "cell_type": "code",
   "execution_count": 12,
   "metadata": {},
   "outputs": [
    {
     "name": "stdout",
     "output_type": "stream",
     "text": [
      "\n",
      "\n",
      "\n",
      "\"Rainbow Threads\"\n",
      "\n",
      "\n",
      "\u001b[1m> Entering new SimpleSequentialChain chain...\u001b[0m\n",
      "\u001b[36;1m\u001b[1;3m\n",
      "\n",
      "\"Burgerlicious Co.\"\n",
      "\u001b[0m\n",
      "\u001b[33;1m\u001b[1;3m\n",
      "\"Where every bite is a tasty delight - Burgerlicious Co.\"\u001b[0m\n",
      "\n",
      "\u001b[1m> Finished chain.\u001b[0m\n"
     ]
    }
   ],
   "source": [
    "llm = OpenAI(model=\"gpt-3.5-turbo-instruct\", temperature=0.9)\n",
    "template = \"What is a good name for a company that makes {product}? Output a single name\"\n",
    "\n",
    "firstPrompt = PromptTemplate.from_template(template)\n",
    "firstChain = LLMChain(llm=llm, prompt=firstPrompt)\n",
    "\n",
    "result = firstChain.run(\"colorful socks\")\n",
    "\n",
    "print(result)\n",
    "\n",
    "secondTemplate = \"Write a catch phrase for the following company: {companyName}?\"\n",
    "secondPrompt = PromptTemplate.from_template(secondTemplate)\n",
    "\n",
    "secondChain = LLMChain(llm=llm, prompt=secondPrompt)\n",
    "\n",
    "\n",
    "overAllChain = SimpleSequentialChain(chains=[firstChain, secondChain], verbose=True)\n",
    "catchPhrase = overAllChain.run(\"Burger joint\")"
   ]
  }
 ],
 "metadata": {
  "kernelspec": {
   "display_name": "Python 3",
   "language": "python",
   "name": "python3"
  },
  "language_info": {
   "codemirror_mode": {
    "name": "ipython",
    "version": 3
   },
   "file_extension": ".py",
   "mimetype": "text/x-python",
   "name": "python",
   "nbconvert_exporter": "python",
   "pygments_lexer": "ipython3",
   "version": "3.10.6"
  }
 },
 "nbformat": 4,
 "nbformat_minor": 2
}
