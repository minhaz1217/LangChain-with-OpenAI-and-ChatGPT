{
 "cells": [
  {
   "cell_type": "code",
   "execution_count": 1,
   "metadata": {},
   "outputs": [
    {
     "data": {
      "text/plain": [
       "True"
      ]
     },
     "execution_count": 1,
     "metadata": {},
     "output_type": "execute_result"
    }
   ],
   "source": [
    "import os\n",
    "from dotenv import load_dotenv\n",
    "\n",
    "envKey = \"OPENAI_API_KEY\"\n",
    "\n",
    "# clearing the key if exists\n",
    "if os.getenv(envKey) != None:\n",
    "    os.environ.pop(envKey) # this is only needed if the environment got set by accident and we want to clear it\n",
    "\n",
    "# loading the environment variable from the .env file\n",
    "load_dotenv()"
   ]
  },
  {
   "cell_type": "code",
   "execution_count": 3,
   "metadata": {},
   "outputs": [
    {
     "name": "stdout",
     "output_type": "stream",
     "text": [
      "[   'python_repl',\n",
      "    'requests',\n",
      "    'requests_get',\n",
      "    'requests_post',\n",
      "    'requests_patch',\n",
      "    'requests_put',\n",
      "    'requests_delete',\n",
      "    'terminal',\n",
      "    'sleep',\n",
      "    'wolfram-alpha',\n",
      "    'google-search',\n",
      "    'google-search-results-json',\n",
      "    'searx-search-results-json',\n",
      "    'bing-search',\n",
      "    'metaphor-search',\n",
      "    'ddg-search',\n",
      "    'google-serper',\n",
      "    'google-scholar',\n",
      "    'google-serper-results-json',\n",
      "    'searchapi',\n",
      "    'searchapi-results-json',\n",
      "    'serpapi',\n",
      "    'dalle-image-generator',\n",
      "    'twilio',\n",
      "    'searx-search',\n",
      "    'wikipedia',\n",
      "    'arxiv',\n",
      "    'golden-query',\n",
      "    'pubmed',\n",
      "    'human',\n",
      "    'awslambda',\n",
      "    'sceneXplain',\n",
      "    'graphql',\n",
      "    'openweathermap-api',\n",
      "    'dataforseo-api-search',\n",
      "    'dataforseo-api-search-json',\n",
      "    'eleven_labs_text2speech',\n",
      "    'google_cloud_texttospeech',\n",
      "    'news-api',\n",
      "    'tmdb-api',\n",
      "    'podcast-api',\n",
      "    'llm-math',\n",
      "    'open-meteo-api']\n"
     ]
    }
   ],
   "source": [
    "import pprint \n",
    "from langchain.agents import get_all_tool_names\n",
    "\n",
    "\n",
    "pp = pprint.PrettyPrinter(indent=4)\n",
    "pp.pprint(get_all_tool_names())"
   ]
  },
  {
   "cell_type": "code",
   "execution_count": 6,
   "metadata": {},
   "outputs": [
    {
     "name": "stdout",
     "output_type": "stream",
     "text": [
      "\n",
      "\n",
      "\u001b[1m> Entering new AgentExecutor chain...\u001b[0m\n",
      "\u001b[32;1m\u001b[1;3m I should use Wikipedia to find the birth year of the 3rd president of the United States and then use a calculator to raise it to the power of 3.\n",
      "Action: Wikipedia\n",
      "Action Input: \"3rd president of the United States\"\u001b[0m\n",
      "Observation: \u001b[36;1m\u001b[1;3mPage: Thomas Jefferson\n",
      "Summary: Thomas Jefferson (April 13, 1743 – July 4, 1826) was an American statesman, diplomat, lawyer, architect, philosopher, and Founding Father who served as the third president of the United States from 1801 to 1809. He was the primary author of the Declaration of Independence. Following the American Revolutionary War and prior to becoming president in 1801, Jefferson was the nation's first U.S. secretary of state under George Washington and then the nation's second vice president under John Adams.\n",
      "During the American Revolution, Jefferson represented Virginia at the Second Continental Congress and served as the second governor of Virginia from 1779 to 1781. In 1785, Congress appointed Jefferson U.S. minister to France, where he served from 1785 to 1789. President Washington then appointed Jefferson the nation's first secretary of state, where he served from 1790 to 1793. During this time, in the early 1790s, Jefferson and James Madison organized the Democratic-Republican Party to oppose the Federalist Party during the formation of the nation's First Party System. Jefferson and Federalist John Adams became both friends and political rivals. In the 1796 U.S. presidential election between the two, Jefferson came in second, which made him Adams' vice president under the electoral laws of the time. Four years later, in the 1800 presidential election, Jefferson again challenged Adams, and won the presidency. In 1804, Jefferson was reelected overwhelmingly to a second term.\n",
      "As president, Jefferson assertively defended the nation's shipping and trade interests against Barbary pirates and aggressive British trade policies. Beginning in 1803, he promoted a western expansionist policy with the Louisiana Purchase, which doubled the nation's geographic size. To make room for settlement, Jefferson began the process of Indian tribal removal from the newly acquired territory. As a result of peace negotiations with France, Jefferson was able to reduce military forces and expenditures. In his second presidential term, Jefferson was beset by difficulties at home, including the trial of his former vice president Aaron Burr. In 1807, Jefferson implemented the Embargo Act to defend the nation's industries from British threats to U.S. shipping, limiting foreign trade and stimulating the birth of the American manufacturing industry.\n",
      "Presidential scholars and historians generally praise Jefferson's public achievements, including his advocacy of religious freedom and tolerance, his peaceful acquisition of the Louisiana Territory from France, and his leadership in supporting the Lewis and Clark Expedition. Jefferson is consistently ranked among the top ten US presidents, though his relationship with slavery continues to be debated. Jefferson was a slave owner, but condemned the slave trade in his draft of the Declaration of Independence and signed the Act Prohibiting Importation of Slaves in 1807. Since the 1790s, he was rumored to have had children by his slave Sally Hemings; according to scholarly consensus, Jefferson probably fathered six children with Hemings.  Jefferson's writings and advocacy for human rights, including freedom of thought, speech, and religion, served as substantial inspirations to the American Revolution and subsequent Revolutionary War in which the Thirteen Colonies succeeded in breaking from British America and establishing the United States as a free and sovereign nation. Jefferson was a leading proponent of democracy, republicanism, and individual rights, and produced formative documents and decisions at the state, national, and international levels. Jefferson's writings have been used by proponents of libertarianism to argue in favor of natural rights and small government.\n",
      "\n",
      "\n",
      "\n",
      "Page: President pro tempore of the United States Senate\n",
      "Summary: The president pro tempore of the United States Senate (often shortened to president pro tem) is the second-highest-ranking official of the United States Senate,\u001b[0m\n",
      "Thought:\u001b[32;1m\u001b[1;3m Now I need to find the birth year of the 3rd president of the United States.\n",
      "Action: Wikipedia\n",
      "Action Input: \"Thomas Jefferson\"\u001b[0m\n",
      "Observation: \u001b[36;1m\u001b[1;3mPage: Thomas Jefferson\n",
      "Summary: Thomas Jefferson (April 13, 1743 – July 4, 1826) was an American statesman, diplomat, lawyer, architect, philosopher, and Founding Father who served as the third president of the United States from 1801 to 1809. He was the primary author of the Declaration of Independence. Following the American Revolutionary War and prior to becoming president in 1801, Jefferson was the nation's first U.S. secretary of state under George Washington and then the nation's second vice president under John Adams.\n",
      "During the American Revolution, Jefferson represented Virginia at the Second Continental Congress and served as the second governor of Virginia from 1779 to 1781. In 1785, Congress appointed Jefferson U.S. minister to France, where he served from 1785 to 1789. President Washington then appointed Jefferson the nation's first secretary of state, where he served from 1790 to 1793. During this time, in the early 1790s, Jefferson and James Madison organized the Democratic-Republican Party to oppose the Federalist Party during the formation of the nation's First Party System. Jefferson and Federalist John Adams became both friends and political rivals. In the 1796 U.S. presidential election between the two, Jefferson came in second, which made him Adams' vice president under the electoral laws of the time. Four years later, in the 1800 presidential election, Jefferson again challenged Adams, and won the presidency. In 1804, Jefferson was reelected overwhelmingly to a second term.\n",
      "As president, Jefferson assertively defended the nation's shipping and trade interests against Barbary pirates and aggressive British trade policies. Beginning in 1803, he promoted a western expansionist policy with the Louisiana Purchase, which doubled the nation's geographic size. To make room for settlement, Jefferson began the process of Indian tribal removal from the newly acquired territory. As a result of peace negotiations with France, Jefferson was able to reduce military forces and expenditures. In his second presidential term, Jefferson was beset by difficulties at home, including the trial of his former vice president Aaron Burr. In 1807, Jefferson implemented the Embargo Act to defend the nation's industries from British threats to U.S. shipping, limiting foreign trade and stimulating the birth of the American manufacturing industry.\n",
      "Presidential scholars and historians generally praise Jefferson's public achievements, including his advocacy of religious freedom and tolerance, his peaceful acquisition of the Louisiana Territory from France, and his leadership in supporting the Lewis and Clark Expedition. Jefferson is consistently ranked among the top ten US presidents, though his relationship with slavery continues to be debated. Jefferson was a slave owner, but condemned the slave trade in his draft of the Declaration of Independence and signed the Act Prohibiting Importation of Slaves in 1807. Since the 1790s, he was rumored to have had children by his slave Sally Hemings; according to scholarly consensus, Jefferson probably fathered six children with Hemings.  Jefferson's writings and advocacy for human rights, including freedom of thought, speech, and religion, served as substantial inspirations to the American Revolution and subsequent Revolutionary War in which the Thirteen Colonies succeeded in breaking from British America and establishing the United States as a free and sovereign nation. Jefferson was a leading proponent of democracy, republicanism, and individual rights, and produced formative documents and decisions at the state, national, and international levels. Jefferson's writings have been used by proponents of libertarianism to argue in favor of natural rights and small government.\n",
      "\n",
      "\n",
      "\n",
      "Page: Thomas Jefferson University\n",
      "Summary: Thomas Jefferson University is a private research university in Philadelphia, Pennsylvania. Established in its earliest form in 1824, the university officially combined with Philadel\u001b[0m\n",
      "Thought:\u001b[32;1m\u001b[1;3m Now I need to find the birth year of Thomas Jefferson.\n",
      "Action: Wikipedia\n",
      "Action Input: \"Thomas Jefferson\"\u001b[0m\n",
      "Observation: \u001b[36;1m\u001b[1;3mPage: Thomas Jefferson\n",
      "Summary: Thomas Jefferson (April 13, 1743 – July 4, 1826) was an American statesman, diplomat, lawyer, architect, philosopher, and Founding Father who served as the third president of the United States from 1801 to 1809. He was the primary author of the Declaration of Independence. Following the American Revolutionary War and prior to becoming president in 1801, Jefferson was the nation's first U.S. secretary of state under George Washington and then the nation's second vice president under John Adams.\n",
      "During the American Revolution, Jefferson represented Virginia at the Second Continental Congress and served as the second governor of Virginia from 1779 to 1781. In 1785, Congress appointed Jefferson U.S. minister to France, where he served from 1785 to 1789. President Washington then appointed Jefferson the nation's first secretary of state, where he served from 1790 to 1793. During this time, in the early 1790s, Jefferson and James Madison organized the Democratic-Republican Party to oppose the Federalist Party during the formation of the nation's First Party System. Jefferson and Federalist John Adams became both friends and political rivals. In the 1796 U.S. presidential election between the two, Jefferson came in second, which made him Adams' vice president under the electoral laws of the time. Four years later, in the 1800 presidential election, Jefferson again challenged Adams, and won the presidency. In 1804, Jefferson was reelected overwhelmingly to a second term.\n",
      "As president, Jefferson assertively defended the nation's shipping and trade interests against Barbary pirates and aggressive British trade policies. Beginning in 1803, he promoted a western expansionist policy with the Louisiana Purchase, which doubled the nation's geographic size. To make room for settlement, Jefferson began the process of Indian tribal removal from the newly acquired territory. As a result of peace negotiations with France, Jefferson was able to reduce military forces and expenditures. In his second presidential term, Jefferson was beset by difficulties at home, including the trial of his former vice president Aaron Burr. In 1807, Jefferson implemented the Embargo Act to defend the nation's industries from British threats to U.S. shipping, limiting foreign trade and stimulating the birth of the American manufacturing industry.\n",
      "Presidential scholars and historians generally praise Jefferson's public achievements, including his advocacy of religious freedom and tolerance, his peaceful acquisition of the Louisiana Territory from France, and his leadership in supporting the Lewis and Clark Expedition. Jefferson is consistently ranked among the top ten US presidents, though his relationship with slavery continues to be debated. Jefferson was a slave owner, but condemned the slave trade in his draft of the Declaration of Independence and signed the Act Prohibiting Importation of Slaves in 1807. Since the 1790s, he was rumored to have had children by his slave Sally Hemings; according to scholarly consensus, Jefferson probably fathered six children with Hemings.  Jefferson's writings and advocacy for human rights, including freedom of thought, speech, and religion, served as substantial inspirations to the American Revolution and subsequent Revolutionary War in which the Thirteen Colonies succeeded in breaking from British America and establishing the United States as a free and sovereign nation. Jefferson was a leading proponent of democracy, republicanism, and individual rights, and produced formative documents and decisions at the state, national, and international levels. Jefferson's writings have been used by proponents of libertarianism to argue in favor of natural rights and small government.\n",
      "\n",
      "\n",
      "\n",
      "Page: Thomas Jefferson University\n",
      "Summary: Thomas Jefferson University is a private research university in Philadelphia, Pennsylvania. Established in its earliest form in 1824, the university officially combined with Philadel\u001b[0m\n",
      "Thought:\u001b[32;1m\u001b[1;3m Now I need to use a calculator to raise the birth year of Thomas Jefferson to the power of 3.\n",
      "Action: Calculator\n",
      "Action Input: 1743^3\u001b[0m\n",
      "Observation: \u001b[33;1m\u001b[1;3mAnswer: 5295319407\u001b[0m\n",
      "Thought:\u001b[32;1m\u001b[1;3m I now know the final answer.\n",
      "Final Answer: 5295319407\u001b[0m\n",
      "\n",
      "\u001b[1m> Finished chain.\u001b[0m\n"
     ]
    },
    {
     "data": {
      "text/plain": [
       "'5295319407'"
      ]
     },
     "execution_count": 6,
     "metadata": {},
     "output_type": "execute_result"
    }
   ],
   "source": [
    "from tabnanny import verbose\n",
    "from langchain import OpenAI\n",
    "from langchain.agents import load_tools, initialize_agent\n",
    "\n",
    "llm = OpenAI(model=\"gpt-3.5-turbo-instruct\", temperature=0)\n",
    "tools = load_tools([\"wikipedia\", \"llm-math\"], llm=llm)\n",
    "agent = initialize_agent(tools, llm, agent='zero-shot-react-description', verbose=True)\n",
    "\n",
    "prompt = \"When was the 3rd president of the united states boron? What is that year raised to the power of 3?\"\n",
    "agent.run(prompt)\n",
    "\n"
   ]
  }
 ],
 "metadata": {
  "kernelspec": {
   "display_name": "Python 3",
   "language": "python",
   "name": "python3"
  },
  "language_info": {
   "codemirror_mode": {
    "name": "ipython",
    "version": 3
   },
   "file_extension": ".py",
   "mimetype": "text/x-python",
   "name": "python",
   "nbconvert_exporter": "python",
   "pygments_lexer": "ipython3",
   "version": "3.10.6"
  }
 },
 "nbformat": 4,
 "nbformat_minor": 2
}
