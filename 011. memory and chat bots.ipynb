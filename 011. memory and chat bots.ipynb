{
 "cells": [
  {
   "cell_type": "code",
   "execution_count": 1,
   "metadata": {},
   "outputs": [
    {
     "data": {
      "text/plain": [
       "True"
      ]
     },
     "execution_count": 1,
     "metadata": {},
     "output_type": "execute_result"
    }
   ],
   "source": [
    "import os\n",
    "from dotenv import load_dotenv\n",
    "\n",
    "envKey = \"OPENAI_API_KEY\"\n",
    "\n",
    "# clearing the key if exists\n",
    "if os.getenv(envKey) != None:\n",
    "    os.environ.pop(envKey) # this is only needed if the environment got set by accident and we want to clear it\n",
    "\n",
    "# loading the environment variable from the .env file\n",
    "load_dotenv()"
   ]
  },
  {
   "cell_type": "code",
   "execution_count": 4,
   "metadata": {},
   "outputs": [
    {
     "name": "stdout",
     "output_type": "stream",
     "text": [
      "\n",
      "\n",
      "\u001b[1m> Entering new ConversationChain chain...\u001b[0m\n",
      "Prompt after formatting:\n",
      "\u001b[32;1m\u001b[1;3mThe following is a friendly conversation between a human and an AI. The AI is talkative and provides lots of specific details from its context. If the AI does not know the answer to a question, it truthfully says it does not know.\n",
      "\n",
      "Current conversation:\n",
      "\n",
      "Human: Hi there\n",
      "AI:\u001b[0m\n",
      "\n",
      "\u001b[1m> Finished chain.\u001b[0m\n",
      " Hello! It's nice to meet you. I am an AI designed to assist with various tasks and provide information. How can I help you today?\n"
     ]
    }
   ],
   "source": [
    "from langchain import OpenAI, ConversationChain\n",
    "\n",
    "llm = OpenAI(model=\"gpt-3.5-turbo-instruct\", temperature=0)\n",
    "\n",
    "conversation = ConversationChain(llm=llm, verbose=True)\n",
    "\n",
    "result = conversation.predict(input=\"Hi there\")\n",
    "print(result)"
   ]
  },
  {
   "cell_type": "code",
   "execution_count": 7,
   "metadata": {},
   "outputs": [
    {
     "name": "stdout",
     "output_type": "stream",
     "text": [
      "\n",
      "\n",
      "\u001b[1m> Entering new ConversationChain chain...\u001b[0m\n",
      "Prompt after formatting:\n",
      "\u001b[32;1m\u001b[1;3mThe following is a friendly conversation between a human and an AI. The AI is talkative and provides lots of specific details from its context. If the AI does not know the answer to a question, it truthfully says it does not know.\n",
      "\n",
      "Current conversation:\n",
      "Human: Hi there\n",
      "AI:  Hello! It's nice to meet you. I am an AI designed to assist with various tasks and provide information. How can I help you today?\n",
      "Human: Can we talk about the weather?\n",
      "AI:  Of course! I have access to real-time weather data from various sources, including satellite imagery, weather stations, and forecasts. What specific information would you like to know about the weather?\n",
      "Human: Can we talk about the weather?\n",
      "AI:  As I mentioned, I have access to a wide range of weather data. Would you like to know the current temperature, precipitation forecast, or any other specific details?\n",
      "Human: Can we talk about the weather?\n",
      "AI:\u001b[0m\n",
      "\n",
      "\u001b[1m> Finished chain.\u001b[0m\n",
      "  I apologize, I may have misunderstood your question. Is there a particular aspect of the weather you would like to discuss?\n"
     ]
    }
   ],
   "source": [
    "print(conversation.predict(input=\"Can we talk about the weather?\"))"
   ]
  },
  {
   "cell_type": "code",
   "execution_count": 9,
   "metadata": {},
   "outputs": [
    {
     "name": "stdout",
     "output_type": "stream",
     "text": [
      "\n",
      "\n",
      "\u001b[1m> Entering new ConversationChain chain...\u001b[0m\n",
      "Prompt after formatting:\n",
      "\u001b[32;1m\u001b[1;3mThe following is a friendly conversation between a human and an AI. The AI is talkative and provides lots of specific details from its context. If the AI does not know the answer to a question, it truthfully says it does not know.\n",
      "\n",
      "Current conversation:\n",
      "Human: Hi there\n",
      "AI:  Hello! It's nice to meet you. I am an AI designed to assist with various tasks and provide information. How can I help you today?\n",
      "Human: Can we talk about the weather?\n",
      "AI:  Of course! I have access to real-time weather data from various sources, including satellite imagery, weather stations, and forecasts. What specific information would you like to know about the weather?\n",
      "Human: Can we talk about the weather?\n",
      "AI:  As I mentioned, I have access to a wide range of weather data. Would you like to know the current temperature, precipitation forecast, or any other specific details?\n",
      "Human: Can we talk about the weather?\n",
      "AI:   I apologize, I may have misunderstood your question. Is there a particular aspect of the weather you would like to discuss?\n",
      "Human: It's a beautiful day\n",
      "AI:  Yes, according to the current weather data, it is a beautiful day with clear skies and a temperature of 75 degrees Fahrenheit. Is there anything else you would like to know about the weather?\n",
      "Human: It's a beautiful day\n",
      "AI:\u001b[0m\n",
      "\n",
      "\u001b[1m> Finished chain.\u001b[0m\n",
      "  I'm glad you think so! The current weather conditions are ideal for outdoor activities such as picnics, hiking, or even just enjoying a walk outside. Is there anything else you would like to know about the weather?\n"
     ]
    }
   ],
   "source": [
    "print(conversation.predict(input=\"It's a beautiful day\"))"
   ]
  },
  {
   "cell_type": "code",
   "execution_count": 10,
   "metadata": {},
   "outputs": [
    {
     "name": "stdout",
     "output_type": "stream",
     "text": [
      "\n",
      "\n",
      "\u001b[1m> Entering new ConversationChain chain...\u001b[0m\n",
      "Prompt after formatting:\n",
      "\u001b[32;1m\u001b[1;3mThe following is a friendly conversation between a human and an AI. The AI is talkative and provides lots of specific details from its context. If the AI does not know the answer to a question, it truthfully says it does not know.\n",
      "\n",
      "Current conversation:\n",
      "Human: Hi there\n",
      "AI:  Hello! It's nice to meet you. I am an AI designed to assist with various tasks and provide information. How can I help you today?\n",
      "Human: Can we talk about the weather?\n",
      "AI:  Of course! I have access to real-time weather data from various sources, including satellite imagery, weather stations, and forecasts. What specific information would you like to know about the weather?\n",
      "Human: Can we talk about the weather?\n",
      "AI:  As I mentioned, I have access to a wide range of weather data. Would you like to know the current temperature, precipitation forecast, or any other specific details?\n",
      "Human: Can we talk about the weather?\n",
      "AI:   I apologize, I may have misunderstood your question. Is there a particular aspect of the weather you would like to discuss?\n",
      "Human: It's a beautiful day\n",
      "AI:  Yes, according to the current weather data, it is a beautiful day with clear skies and a temperature of 75 degrees Fahrenheit. Is there anything else you would like to know about the weather?\n",
      "Human: It's a beautiful day\n",
      "AI:   I'm glad you think so! The current weather conditions are ideal for outdoor activities such as picnics, hiking, or even just enjoying a walk outside. Is there anything else you would like to know about the weather?\n",
      "Human: Can you please give me the temperature in celcius?\n",
      "AI:\u001b[0m\n",
      "\n",
      "\u001b[1m> Finished chain.\u001b[0m\n",
      " Sure, the current temperature is 23.9 degrees Celsius. Is there anything else I can assist you with?\n"
     ]
    }
   ],
   "source": [
    "print(conversation.predict(input=\"Can you please give me the temperature in celcius?\"))"
   ]
  },
  {
   "cell_type": "code",
   "execution_count": 11,
   "metadata": {},
   "outputs": [
    {
     "name": "stdout",
     "output_type": "stream",
     "text": [
      "\n",
      "\n",
      "\u001b[1m> Entering new ConversationChain chain...\u001b[0m\n",
      "Prompt after formatting:\n",
      "\u001b[32;1m\u001b[1;3mThe following is a friendly conversation between a human and an AI. The AI is talkative and provides lots of specific details from its context. If the AI does not know the answer to a question, it truthfully says it does not know.\n",
      "\n",
      "Current conversation:\n",
      "Human: Hi there\n",
      "AI:  Hello! It's nice to meet you. I am an AI designed to assist with various tasks and provide information. How can I help you today?\n",
      "Human: Can we talk about the weather?\n",
      "AI:  Of course! I have access to real-time weather data from various sources, including satellite imagery, weather stations, and forecasts. What specific information would you like to know about the weather?\n",
      "Human: Can we talk about the weather?\n",
      "AI:  As I mentioned, I have access to a wide range of weather data. Would you like to know the current temperature, precipitation forecast, or any other specific details?\n",
      "Human: Can we talk about the weather?\n",
      "AI:   I apologize, I may have misunderstood your question. Is there a particular aspect of the weather you would like to discuss?\n",
      "Human: It's a beautiful day\n",
      "AI:  Yes, according to the current weather data, it is a beautiful day with clear skies and a temperature of 75 degrees Fahrenheit. Is there anything else you would like to know about the weather?\n",
      "Human: It's a beautiful day\n",
      "AI:   I'm glad you think so! The current weather conditions are ideal for outdoor activities such as picnics, hiking, or even just enjoying a walk outside. Is there anything else you would like to know about the weather?\n",
      "Human: Can you please give me the temperature in celcius?\n",
      "AI:  Sure, the current temperature is 23.9 degrees Celsius. Is there anything else I can assist you with?\n",
      "Human: Hello\n",
      "AI:\u001b[0m\n",
      "\n",
      "\u001b[1m> Finished chain.\u001b[0m\n",
      "AI:  Hello! How can I help you today?\n",
      "\n",
      "\n",
      "\u001b[1m> Entering new ConversationChain chain...\u001b[0m\n",
      "Prompt after formatting:\n",
      "\u001b[32;1m\u001b[1;3mThe following is a friendly conversation between a human and an AI. The AI is talkative and provides lots of specific details from its context. If the AI does not know the answer to a question, it truthfully says it does not know.\n",
      "\n",
      "Current conversation:\n",
      "Human: Hi there\n",
      "AI:  Hello! It's nice to meet you. I am an AI designed to assist with various tasks and provide information. How can I help you today?\n",
      "Human: Can we talk about the weather?\n",
      "AI:  Of course! I have access to real-time weather data from various sources, including satellite imagery, weather stations, and forecasts. What specific information would you like to know about the weather?\n",
      "Human: Can we talk about the weather?\n",
      "AI:  As I mentioned, I have access to a wide range of weather data. Would you like to know the current temperature, precipitation forecast, or any other specific details?\n",
      "Human: Can we talk about the weather?\n",
      "AI:   I apologize, I may have misunderstood your question. Is there a particular aspect of the weather you would like to discuss?\n",
      "Human: It's a beautiful day\n",
      "AI:  Yes, according to the current weather data, it is a beautiful day with clear skies and a temperature of 75 degrees Fahrenheit. Is there anything else you would like to know about the weather?\n",
      "Human: It's a beautiful day\n",
      "AI:   I'm glad you think so! The current weather conditions are ideal for outdoor activities such as picnics, hiking, or even just enjoying a walk outside. Is there anything else you would like to know about the weather?\n",
      "Human: Can you please give me the temperature in celcius?\n",
      "AI:  Sure, the current temperature is 23.9 degrees Celsius. Is there anything else I can assist you with?\n",
      "Human: Hello\n",
      "AI:  Hello! How can I help you today?\n",
      "Human: Give a name for my child\n",
      "AI:\u001b[0m\n",
      "\n",
      "\u001b[1m> Finished chain.\u001b[0m\n",
      "AI:  I'm sorry, I am not capable of giving names as I am an AI. However, I can provide suggestions or ideas if you would like. Would you like me to do that?\n",
      "\n",
      "\n",
      "\u001b[1m> Entering new ConversationChain chain...\u001b[0m\n",
      "Prompt after formatting:\n",
      "\u001b[32;1m\u001b[1;3mThe following is a friendly conversation between a human and an AI. The AI is talkative and provides lots of specific details from its context. If the AI does not know the answer to a question, it truthfully says it does not know.\n",
      "\n",
      "Current conversation:\n",
      "Human: Hi there\n",
      "AI:  Hello! It's nice to meet you. I am an AI designed to assist with various tasks and provide information. How can I help you today?\n",
      "Human: Can we talk about the weather?\n",
      "AI:  Of course! I have access to real-time weather data from various sources, including satellite imagery, weather stations, and forecasts. What specific information would you like to know about the weather?\n",
      "Human: Can we talk about the weather?\n",
      "AI:  As I mentioned, I have access to a wide range of weather data. Would you like to know the current temperature, precipitation forecast, or any other specific details?\n",
      "Human: Can we talk about the weather?\n",
      "AI:   I apologize, I may have misunderstood your question. Is there a particular aspect of the weather you would like to discuss?\n",
      "Human: It's a beautiful day\n",
      "AI:  Yes, according to the current weather data, it is a beautiful day with clear skies and a temperature of 75 degrees Fahrenheit. Is there anything else you would like to know about the weather?\n",
      "Human: It's a beautiful day\n",
      "AI:   I'm glad you think so! The current weather conditions are ideal for outdoor activities such as picnics, hiking, or even just enjoying a walk outside. Is there anything else you would like to know about the weather?\n",
      "Human: Can you please give me the temperature in celcius?\n",
      "AI:  Sure, the current temperature is 23.9 degrees Celsius. Is there anything else I can assist you with?\n",
      "Human: Hello\n",
      "AI:  Hello! How can I help you today?\n",
      "Human: Give a name for my child\n",
      "AI:  I'm sorry, I am not capable of giving names as I am an AI. However, I can provide suggestions or ideas if you would like. Would you like me to do that?\n",
      "Human: Yes\n",
      "AI:\u001b[0m\n",
      "\n",
      "\u001b[1m> Finished chain.\u001b[0m\n",
      "AI:  Great! Based on popular trends and meanings, some suggestions for a baby name could be Olivia, Liam, Sophia, or Ethan. Would you like me to provide more options?\n"
     ]
    }
   ],
   "source": [
    "for _ in range(0,3):\n",
    "    humanInput = input(\"You: \")\n",
    "    print(f\"AI: {conversation.predict(input=humanInput)}\")"
   ]
  }
 ],
 "metadata": {
  "kernelspec": {
   "display_name": "Python 3",
   "language": "python",
   "name": "python3"
  },
  "language_info": {
   "codemirror_mode": {
    "name": "ipython",
    "version": 3
   },
   "file_extension": ".py",
   "mimetype": "text/x-python",
   "name": "python",
   "nbconvert_exporter": "python",
   "pygments_lexer": "ipython3",
   "version": "3.10.6"
  }
 },
 "nbformat": 4,
 "nbformat_minor": 2
}
