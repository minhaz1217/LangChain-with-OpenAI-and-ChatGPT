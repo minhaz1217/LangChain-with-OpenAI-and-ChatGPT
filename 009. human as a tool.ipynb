{
 "cells": [
  {
   "cell_type": "code",
   "execution_count": 2,
   "metadata": {},
   "outputs": [
    {
     "data": {
      "text/plain": [
       "True"
      ]
     },
     "execution_count": 2,
     "metadata": {},
     "output_type": "execute_result"
    }
   ],
   "source": [
    "import os\n",
    "from dotenv import load_dotenv\n",
    "\n",
    "envKey = \"OPENAI_API_KEY\"\n",
    "\n",
    "# clearing the key if exists\n",
    "if os.getenv(envKey) != None:\n",
    "    os.environ.pop(envKey) # this is only needed if the environment got set by accident and we want to clear it\n",
    "\n",
    "# loading the environment variable from the .env file\n",
    "load_dotenv()"
   ]
  },
  {
   "cell_type": "code",
   "execution_count": 3,
   "metadata": {},
   "outputs": [
    {
     "name": "stdout",
     "output_type": "stream",
     "text": [
      "\n",
      "\n",
      "\u001b[1m> Entering new AgentExecutor chain...\u001b[0m\n",
      "\u001b[32;1m\u001b[1;3m I should ask my friend Andi directly.\n",
      "Action: human\n",
      "Action Input: \"Hey Andi, what's your surname?\"\u001b[0m\n",
      "\n",
      "Hey Andi, what's your surname?\n",
      "\n",
      "Observation: \u001b[36;1m\u001b[1;3mMinhaz\u001b[0m\n",
      "Thought:\u001b[32;1m\u001b[1;3m I should remember the answer for future reference.\n",
      "Final Answer: Minhaz\u001b[0m\n",
      "\n",
      "\u001b[1m> Finished chain.\u001b[0m\n"
     ]
    },
    {
     "data": {
      "text/plain": [
       "'Minhaz'"
      ]
     },
     "execution_count": 3,
     "metadata": {},
     "output_type": "execute_result"
    }
   ],
   "source": [
    "from langchain import OpenAI\n",
    "from langchain.agents import load_tools, initialize_agent, AgentType\n",
    "\n",
    "llm = OpenAI(model=\"gpt-3.5-turbo-instruct\", temperature=0)\n",
    "tools = load_tools([\"human\"])\n",
    "\n",
    "agentChain = initialize_agent( tools, llm, agent=AgentType.ZERO_SHOT_REACT_DESCRIPTION, verbose=True )\n",
    "\n",
    "agentChain.run(\"What's my friend Andi's Surname?\")"
   ]
  }
 ],
 "metadata": {
  "kernelspec": {
   "display_name": "Python 3",
   "language": "python",
   "name": "python3"
  },
  "language_info": {
   "codemirror_mode": {
    "name": "ipython",
    "version": 3
   },
   "file_extension": ".py",
   "mimetype": "text/x-python",
   "name": "python",
   "nbconvert_exporter": "python",
   "pygments_lexer": "ipython3",
   "version": "3.10.6"
  }
 },
 "nbformat": 4,
 "nbformat_minor": 2
}
