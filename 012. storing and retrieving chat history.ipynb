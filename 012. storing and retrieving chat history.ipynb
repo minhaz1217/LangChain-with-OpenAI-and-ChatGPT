{
 "cells": [
  {
   "cell_type": "code",
   "execution_count": 1,
   "metadata": {},
   "outputs": [
    {
     "data": {
      "text/plain": [
       "True"
      ]
     },
     "execution_count": 1,
     "metadata": {},
     "output_type": "execute_result"
    }
   ],
   "source": [
    "import os\n",
    "from dotenv import load_dotenv\n",
    "\n",
    "envKey = \"OPENAI_API_KEY\"\n",
    "\n",
    "# clearing the key if exists\n",
    "if os.getenv(envKey) != None:\n",
    "    os.environ.pop(envKey) # this is only needed if the environment got set by accident and we want to clear it\n",
    "\n",
    "# loading the environment variable from the .env file\n",
    "load_dotenv()"
   ]
  },
  {
   "cell_type": "code",
   "execution_count": 3,
   "metadata": {},
   "outputs": [
    {
     "name": "stdout",
     "output_type": "stream",
     "text": [
      "[{'type': 'human', 'data': {'content': \"User's message\", 'additional_kwargs': {}, 'type': 'human', 'example': False}}, {'type': 'ai', 'data': {'content': \"Ai's message\", 'additional_kwargs': {}, 'type': 'ai', 'example': False}}]\n"
     ]
    }
   ],
   "source": [
    "from langchain import OpenAI, ConversationChain\n",
    "from langchain.memory import ChatMessageHistory, ConversationBufferMemory\n",
    "from langchain.schema import messages_from_dict, messages_to_dict\n",
    "\n",
    "\n",
    "history = ChatMessageHistory()\n",
    "history.add_user_message(\"User's message\")\n",
    "history.add_ai_message(\"Ai's message\")\n",
    "dicts = messages_to_dict(history.messages)\n",
    "print(dicts)\n",
    "\n",
    "newMessages = messages_from_dict(dicts)\n",
    "\n"
   ]
  },
  {
   "cell_type": "code",
   "execution_count": 6,
   "metadata": {},
   "outputs": [
    {
     "name": "stdout",
     "output_type": "stream",
     "text": [
      "\n",
      "\n",
      "\u001b[1m> Entering new ConversationChain chain...\u001b[0m\n",
      "Prompt after formatting:\n",
      "\u001b[32;1m\u001b[1;3mThe following is a friendly conversation between a human and an AI. The AI is talkative and provides lots of specific details from its context. If the AI does not know the answer to a question, it truthfully says it does not know.\n",
      "\n",
      "Current conversation:\n",
      "Human: User's message\n",
      "AI: Ai's message\n",
      "Human: What are they?\n",
      "AI:\u001b[0m\n",
      "\n",
      "\u001b[1m> Finished chain.\u001b[0m\n",
      " I'm not sure who \"they\" refers to. Can you provide more context?\n"
     ]
    }
   ],
   "source": [
    "llm = OpenAI(model=\"gpt-3.5-turbo-instruct\", temperature=0)\n",
    "\n",
    "history = ChatMessageHistory(messages=newMessages)\n",
    "buffer = ConversationBufferMemory(chat_memory=history)\n",
    "\n",
    "conversation = ConversationChain(llm=llm, memory=buffer, verbose=True)\n",
    "\n",
    "print(conversation.predict(input=\"What are they?\"))"
   ]
  }
 ],
 "metadata": {
  "kernelspec": {
   "display_name": "Python 3",
   "language": "python",
   "name": "python3"
  },
  "language_info": {
   "codemirror_mode": {
    "name": "ipython",
    "version": 3
   },
   "file_extension": ".py",
   "mimetype": "text/x-python",
   "name": "python",
   "nbconvert_exporter": "python",
   "pygments_lexer": "ipython3",
   "version": "3.10.6"
  }
 },
 "nbformat": 4,
 "nbformat_minor": 2
}
